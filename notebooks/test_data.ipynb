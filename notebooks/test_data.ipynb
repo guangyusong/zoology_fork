{
 "cells": [
  {
   "cell_type": "code",
   "execution_count": 1,
   "metadata": {},
   "outputs": [],
   "source": [
    "# add autoreload\n",
    "%load_ext autoreload\n",
    "%autoreload 2"
   ]
  },
  {
   "cell_type": "code",
   "execution_count": 2,
   "metadata": {},
   "outputs": [],
   "source": [
    "import sys\n",
    "sys.path.append(\"./var/sim_data/code/release/zoology/data/\")\n"
   ]
  },
  {
   "cell_type": "code",
   "execution_count": null,
   "metadata": {},
   "outputs": [],
   "source": [
    "# Step 1: Install zoology in the env you are using, using the setup.py file"
   ]
  },
  {
   "cell_type": "code",
   "execution_count": 16,
   "metadata": {},
   "outputs": [
    {
     "name": "stdout",
     "output_type": "stream",
     "text": [
      "tensor(9) tensor(-100)\n",
      "tensor(134) tensor(-100)\n",
      "tensor(52) tensor(-100)\n",
      "tensor(243) tensor(-100)\n",
      "tensor(127) tensor(-100)\n",
      "tensor(159) tensor(-100)\n",
      "tensor(25) tensor(-100)\n",
      "tensor(182) tensor(-100)\n",
      "tensor(41) tensor(-100)\n",
      "tensor(139) tensor(-100)\n",
      "tensor(101) tensor(-100)\n",
      "tensor(136) tensor(-100)\n",
      "tensor(74) tensor(-100)\n",
      "tensor(176) tensor(-100)\n",
      "tensor(49) tensor(-100)\n",
      "tensor(153) tensor(-100)\n",
      "tensor(52) tensor(243)\n",
      "tensor(176) tensor(-100)\n",
      "tensor(119) tensor(-100)\n",
      "tensor(56) tensor(-100)\n",
      "tensor(25) tensor(182)\n",
      "tensor(21) tensor(-100)\n",
      "tensor(236) tensor(-100)\n",
      "tensor(206) tensor(-100)\n",
      "tensor(41) tensor(139)\n",
      "tensor(75) tensor(-100)\n",
      "tensor(9) tensor(134)\n",
      "tensor(129) tensor(-100)\n",
      "tensor(113) tensor(-100)\n",
      "tensor(166) tensor(-100)\n"
     ]
    }
   ],
   "source": [
    "# Step 2: Import the data you want to inspect\n",
    "\n",
    "from associative_recall import multiquery_ar\n",
    "data  = multiquery_ar(\n",
    "    vocab_size=256,\n",
    "    num_examples=10,\n",
    "    input_seq_len=128,\n",
    "    seed=0,\n",
    ")\n",
    "x= data.inputs[0]\n",
    "y= data.labels[0]\n",
    "\n",
    "for i, (_x, _y) in enumerate(zip(x, y)):\n",
    "    if i == 30:\n",
    "        break\n",
    "    print(_x, _y)"
   ]
  },
  {
   "cell_type": "code",
   "execution_count": null,
   "metadata": {},
   "outputs": [],
   "source": []
  },
  {
   "cell_type": "code",
   "execution_count": 67,
   "metadata": {},
   "outputs": [
    {
     "name": "stdout",
     "output_type": "stream",
     "text": [
      "Lengths: 4, 4\n",
      "\n",
      "0 -100\n",
      "1 -100\n",
      "1 -100\n",
      "2 0\n",
      "2\n"
     ]
    }
   ],
   "source": [
    "# Parity dataset\n",
    "\n",
    "from circuits import parity\n",
    "\n",
    "import random\n",
    "random_number = random.randint(0, 1000)\n",
    "\n",
    "input_seq_len=4\n",
    "data  = parity(\n",
    "    vocab_size=256,\n",
    "    num_examples=10,\n",
    "    input_seq_len=input_seq_len,\n",
    "    seed=random_number,\n",
    ")\n",
    "x= data.inputs[0]\n",
    "y= data.labels[0]\n",
    "\n",
    "print(f\"Lengths: {len(x)}, {len(y)}\\n\")\n",
    "num_one = 0\n",
    "for i, (_x, _y) in enumerate(zip(x, y)):\n",
    "    if _x.item() == 1:\n",
    "        num_one += 1\n",
    "    print(_x.item(), _y.item())\n",
    "\n",
    "print(num_one)"
   ]
  },
  {
   "cell_type": "code",
   "execution_count": 76,
   "metadata": {},
   "outputs": [
    {
     "name": "stdout",
     "output_type": "stream",
     "text": [
      "Lengths: 7, 7\n",
      "\n",
      "1 1\n",
      "1 0\n",
      "1 1\n",
      "0 1\n",
      "1 0\n",
      "0 0\n",
      "0 0\n",
      "4\n"
     ]
    }
   ],
   "source": [
    "# Parity dataset\n",
    "\n",
    "from circuits import cumulative_parity\n",
    "\n",
    "import random\n",
    "random_number = random.randint(0, 1000)\n",
    "\n",
    "input_seq_len=8\n",
    "data  = cumulative_parity(\n",
    "    vocab_size=256,\n",
    "    num_examples=10,\n",
    "    input_seq_len=input_seq_len,\n",
    "    seed=random_number,\n",
    ")\n",
    "x= data.inputs[0]\n",
    "y= data.labels[0]\n",
    "\n",
    "print(f\"Lengths: {len(x)}, {len(y)}\\n\")\n",
    "num_one = 0\n",
    "for i, (_x, _y) in enumerate(zip(x, y)):\n",
    "    if _x.item() == 1:\n",
    "        num_one += 1\n",
    "    print(_x.item(), _y.item())\n",
    "\n",
    "print(num_one)"
   ]
  },
  {
   "cell_type": "code",
   "execution_count": null,
   "metadata": {},
   "outputs": [],
   "source": []
  }
 ],
 "metadata": {
  "kernelspec": {
   "display_name": "Python 3",
   "language": "python",
   "name": "python3"
  },
  "language_info": {
   "codemirror_mode": {
    "name": "ipython",
    "version": 3
   },
   "file_extension": ".py",
   "mimetype": "text/x-python",
   "name": "python",
   "nbconvert_exporter": "python",
   "pygments_lexer": "ipython3",
   "version": "3.8.18"
  }
 },
 "nbformat": 4,
 "nbformat_minor": 2
}
